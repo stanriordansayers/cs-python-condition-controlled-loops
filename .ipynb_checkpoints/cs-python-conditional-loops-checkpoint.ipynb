{
 "cells": [
  {
   "cell_type": "markdown",
   "metadata": {},
   "source": [
    "# Practicing WHILE Loop in Python\n",
    "\n",
    "Remember you can use:\n",
    "\n",
    "WHILE or conditional loops\n",
    "\n",
    "loopVar = <value>\n",
    "while condition :\n",
    "    #indent - do loop stuff\n",
    "    loopVar +=1 # change loop varible or you get an infinite loop!\n",
    "\n",
    "#dedent - loop is done. Do next thing"
   ]
  },
  {
   "cell_type": "markdown",
   "metadata": {},
   "source": [
    "x=0\n",
    "\n",
    "while x<5:\n",
    "\t\n",
    "    print('looping')\n",
    "\n",
    "If we run the above code (don’t) you will find it goes on forever printing looping.  that is because x remains 0 and so is always less than 5. Let’s fix it:\n",
    "\n",
    "\n",
    "x=0 \n",
    "while x<5: \n",
    "\tprint('looping')\n",
    "    #change the loop variable\n",
    "\tx=x+1 \n",
    "\n",
    "Now try running the above code."
   ]
  },
  {
   "cell_type": "code",
   "execution_count": 4,
   "metadata": {},
   "outputs": [
    {
     "name": "stdout",
     "output_type": "stream",
     "text": [
      "looping\n",
      "looping\n",
      "looping\n",
      "looping\n",
      "looping\n"
     ]
    }
   ],
   "source": [
    "# write your code here\n",
    "x=0\n",
    "\n",
    "while x<5:\n",
    "    \n",
    "    print('looping')\n",
    "    x=x+1"
   ]
  },
  {
   "cell_type": "markdown",
   "metadata": {},
   "source": [
    "## Task 1: Write a program that asks for a password and keeps asking until the correct password, apple is entered and then says Accepted"
   ]
  },
  {
   "cell_type": "code",
   "execution_count": 13,
   "metadata": {},
   "outputs": [
    {
     "name": "stdout",
     "output_type": "stream",
     "text": [
      "Enter a password: appie\n",
      "WRONG password, try again: appule\n",
      "WRONG password, try again: APPLE\n",
      "WRONG password, try again: apple\n",
      "Correct\n"
     ]
    }
   ],
   "source": [
    "password = \"apple\"\n",
    "# write your code here\n",
    "# ask the user to input a password\n",
    "\n",
    "passwordAttempt = input(\"Enter a password: \")\n",
    "\n",
    "# Compare the input password with the password, use comparison operator\n",
    "\n",
    "while passwordAttempt != password:\n",
    "    passwordAttempt = input(\"WRONG password, try again: \")\n",
    "print(\"Correct\")"
   ]
  },
  {
   "cell_type": "markdown",
   "metadata": {},
   "source": [
    "## Task2: Write a program to check if the number is prime or not."
   ]
  },
  {
   "cell_type": "code",
   "execution_count": 53,
   "metadata": {},
   "outputs": [],
   "source": [
    "def primeTest(num):\n",
    "    \n",
    "    #hint: start by assuming the number IS a prime\n",
    "    isPrime = True\n",
    "    primeCheck = 2\n",
    "    #write your code using a loop to test whether a number is a prime\n",
    "    #hint: when is a number NOT a prime??\n",
    "    while isPrime == True and primeCheck < num:\n",
    "        if num%primeCheck == 0:\n",
    "            isPrime = False\n",
    "            print(\"Your number is not prime.\")\n",
    "        else:\n",
    "            primeCheck += 1\n",
    "    if isPrime == True:\n",
    "        print(\"Your number is prime.\")\n",
    "    return"
   ]
  },
  {
   "cell_type": "code",
   "execution_count": 55,
   "metadata": {},
   "outputs": [
    {
     "name": "stdout",
     "output_type": "stream",
     "text": [
      "Your number is not prime.\n"
     ]
    },
    {
     "ename": "AssertionError",
     "evalue": "Error testing if a number is prime",
     "output_type": "error",
     "traceback": [
      "\u001b[0;31m---------------------------------------------------------------------------\u001b[0m",
      "\u001b[0;31mAssertionError\u001b[0m                            Traceback (most recent call last)",
      "\u001b[0;32m<ipython-input-55-cacbdec9c2f2>\u001b[0m in \u001b[0;36m<module>\u001b[0;34m()\u001b[0m\n\u001b[1;32m      1\u001b[0m \u001b[0;31m#test the function\u001b[0m\u001b[0;34m\u001b[0m\u001b[0;34m\u001b[0m\u001b[0m\n\u001b[0;32m----> 2\u001b[0;31m \u001b[0;32massert\u001b[0m  \u001b[0mprimeTest\u001b[0m\u001b[0;34m(\u001b[0m\u001b[0;36m4\u001b[0m\u001b[0;34m)\u001b[0m\u001b[0;34m,\u001b[0m \u001b[0;34m\"Error testing if a number is prime\"\u001b[0m\u001b[0;34m\u001b[0m\u001b[0m\n\u001b[0m",
      "\u001b[0;31mAssertionError\u001b[0m: Error testing if a number is prime"
     ]
    }
   ],
   "source": [
    "#test the function\n",
    "assert  primeTest(4), \"Error testing if a number is prime\""
   ]
  },
  {
   "cell_type": "markdown",
   "metadata": {},
   "source": [
    "## Task 3: Write a program that display all the prime numbers less than 100 using while loop"
   ]
  },
  {
   "cell_type": "code",
   "execution_count": 16,
   "metadata": {},
   "outputs": [
    {
     "name": "stdout",
     "output_type": "stream",
     "text": [
      "Your number is prime.\n"
     ]
    }
   ],
   "source": [
    "# write your code here\n",
    "\n",
    "#def primeDisplay(num):\n",
    "#    isItPrime = True\n",
    "#    primeNumber = \n",
    "#    primeChecker = 1\n",
    "   \n",
    "    #hint: when is a number prime??\n",
    "    \n",
    "#    while primeChecker < num:\n",
    "#        if num%primeChecker == 0:\n",
    "#            isItPrime = False\n",
    "#        else:\n",
    "#            print(primeChecker)\n",
    "#            primeChecker += 1\n",
    "#    if isItPrime == True:\n",
    "#        print(\"Your number is prime.\")\n",
    "#    return\n",
    "#\n",
    "# now Call the function \n",
    "#primeDisplay(59)\n",
    "\n",
    "primeNumber = 1\n",
    "primeChecker = 1\n",
    "\n",
    "while x < 100:\n",
    "    if primeChecker < primeNumber:\n",
    "        if x & primeChecker :\n",
    "            "
   ]
  },
  {
   "cell_type": "markdown",
   "metadata": {},
   "source": [
    "## Task 4: The sequence 1,4,9,16,25 is made up of square numbers. Write a program that writes out all the square numbers under 500."
   ]
  },
  {
   "cell_type": "code",
   "execution_count": 9,
   "metadata": {},
   "outputs": [
    {
     "name": "stdout",
     "output_type": "stream",
     "text": [
      "0\n",
      "1\n",
      "4\n",
      "9\n",
      "16\n",
      "25\n",
      "36\n",
      "49\n",
      "64\n",
      "81\n",
      "100\n",
      "121\n",
      "144\n",
      "169\n",
      "196\n",
      "225\n",
      "256\n",
      "289\n",
      "324\n",
      "361\n",
      "400\n",
      "441\n",
      "484\n"
     ]
    }
   ],
   "source": [
    "# write your code here\n",
    "\n",
    "def squareNum():\n",
    "    num = 0\n",
    "    # hint: how will you find the square of a number? \n",
    "    while num**2 < 500:\n",
    "        print(num**2)\n",
    "        num += 1\n",
    "    return\n",
    "\n",
    "# now Call the function \n",
    "squareNum()"
   ]
  },
  {
   "cell_type": "markdown",
   "metadata": {},
   "source": [
    "## Task 5. Write a program to simulate throwing a die until 6 is thrown. The program outputs the average number of throws it took to get 6"
   ]
  },
  {
   "cell_type": "code",
   "execution_count": 38,
   "metadata": {},
   "outputs": [
    {
     "name": "stdout",
     "output_type": "stream",
     "text": [
      "6\n"
     ]
    }
   ],
   "source": [
    "# why do we need to use random library?\n",
    "from random import randint\n",
    "#totalThrows = 0\n",
    "\n",
    "# write your code here\n",
    "def diceThrow():\n",
    "    totalThrows = 0\n",
    "    random_number = randint(1,6)\n",
    "    while random_number != 6:\n",
    "        totalThrows += 1\n",
    "        random_number = randint(1,6)\n",
    "    print(totalThrows)\n",
    "    return\n",
    "# Use the following function to generates a number from 1 through 6 \n",
    "#random_number = randint(1, 6)\n",
    "diceThrow()"
   ]
  },
  {
   "cell_type": "markdown",
   "metadata": {},
   "source": [
    "## Extension task\n",
    "Scrabble is a game where players get points by spelling words. Words are scored by adding together the point values of each individual letter.Define a function scrabble_score that takes a string word as input and returns the equivalent scrabble score for that word."
   ]
  },
  {
   "cell_type": "code",
   "execution_count": 83,
   "metadata": {},
   "outputs": [
    {
     "ename": "KeyError",
     "evalue": "'letter'",
     "output_type": "error",
     "traceback": [
      "\u001b[0;31m---------------------------------------------------------------------------\u001b[0m",
      "\u001b[0;31mKeyError\u001b[0m                                  Traceback (most recent call last)",
      "\u001b[0;32m<ipython-input-83-bd1e23211337>\u001b[0m in \u001b[0;36m<module>\u001b[0;34m()\u001b[0m\n\u001b[1;32m     15\u001b[0m \u001b[0;34m\u001b[0m\u001b[0m\n\u001b[1;32m     16\u001b[0m \u001b[0;31m# Call the function with input parameter \"Hello\"\u001b[0m\u001b[0;34m\u001b[0m\u001b[0;34m\u001b[0m\u001b[0m\n\u001b[0;32m---> 17\u001b[0;31m \u001b[0mscrabble_score\u001b[0m\u001b[0;34m(\u001b[0m\u001b[0;34m\"Hello\"\u001b[0m\u001b[0;34m)\u001b[0m\u001b[0;34m\u001b[0m\u001b[0m\n\u001b[0m",
      "\u001b[0;32m<ipython-input-83-bd1e23211337>\u001b[0m in \u001b[0;36mscrabble_score\u001b[0;34m(word)\u001b[0m\n\u001b[1;32m     10\u001b[0m     \u001b[0mtotalScore\u001b[0m \u001b[0;34m=\u001b[0m \u001b[0;36m0\u001b[0m\u001b[0;34m\u001b[0m\u001b[0m\n\u001b[1;32m     11\u001b[0m     \u001b[0;32mfor\u001b[0m \u001b[0mletter\u001b[0m \u001b[0;32min\u001b[0m \u001b[0mtrueWord\u001b[0m\u001b[0;34m:\u001b[0m\u001b[0;34m\u001b[0m\u001b[0m\n\u001b[0;32m---> 12\u001b[0;31m         \u001b[0mtotalScore\u001b[0m \u001b[0;34m+=\u001b[0m \u001b[0mscore\u001b[0m\u001b[0;34m.\u001b[0m\u001b[0mpop\u001b[0m\u001b[0;34m(\u001b[0m\u001b[0;34m'letter'\u001b[0m\u001b[0;34m)\u001b[0m\u001b[0;34m\u001b[0m\u001b[0m\n\u001b[0m\u001b[1;32m     13\u001b[0m     \u001b[0mprint\u001b[0m\u001b[0;34m(\u001b[0m\u001b[0mtotalScore\u001b[0m\u001b[0;34m)\u001b[0m\u001b[0;34m\u001b[0m\u001b[0m\n\u001b[1;32m     14\u001b[0m     \u001b[0;32mreturn\u001b[0m\u001b[0;34m\u001b[0m\u001b[0m\n",
      "\u001b[0;31mKeyError\u001b[0m: 'letter'"
     ]
    }
   ],
   "source": [
    "score = {\"a\": 1, \"c\": 3, \"b\": 3, \"e\": 1, \"d\": 2, \"g\": 2,\n",
    "         \"f\": 4, \"i\": 1, \"h\": 4, \"k\": 5, \"j\": 8, \"m\": 3,\n",
    "         \"l\": 1, \"o\": 1, \"n\": 1, \"q\": 10, \"p\": 3, \"s\": 1,\n",
    "         \"r\": 1, \"u\": 1, \"t\": 1, \"w\": 4, \"v\": 4, \"y\": 4,\n",
    "         \"x\": 8, \"z\": 10}\n",
    "\n",
    "# write your code inside the function\n",
    "def scrabble_score(word):\n",
    "    trueWord = str(word.lower)\n",
    "    totalScore = 0\n",
    "    for letter in trueWord:\n",
    "        totalScore += score.pop('letter')\n",
    "    print(totalScore)\n",
    "    return\n",
    "\n",
    "# Call the function with input parameter \"Hello\"\n",
    "scrabble_score(\"Hello\")"
   ]
  }
 ],
 "metadata": {
  "kernelspec": {
   "display_name": "Python 3",
   "language": "python",
   "name": "python3"
  },
  "language_info": {
   "codemirror_mode": {
    "name": "ipython",
    "version": 3
   },
   "file_extension": ".py",
   "mimetype": "text/x-python",
   "name": "python",
   "nbconvert_exporter": "python",
   "pygments_lexer": "ipython3",
   "version": "3.6.6"
  }
 },
 "nbformat": 4,
 "nbformat_minor": 2
}
